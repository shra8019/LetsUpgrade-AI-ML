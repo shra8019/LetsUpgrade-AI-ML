{
 "cells": [
  {
   "cell_type": "code",
   "execution_count": 8,
   "metadata": {},
   "outputs": [
    {
     "name": "stdout",
     "output_type": "stream",
     "text": [
      "(1+1j)\n"
     ]
    }
   ],
   "source": [
    "#Substraction of two complex number.\n",
    "a=4+2j\n",
    "b=3+1j\n",
    "c=a-b\n",
    "print(c)"
   ]
  },
  {
   "cell_type": "code",
   "execution_count": 9,
   "metadata": {},
   "outputs": [
    {
     "name": "stdout",
     "output_type": "stream",
     "text": [
      "Fourth root of the 16 is 2.0\n"
     ]
    }
   ],
   "source": [
    "#Program to find a fourth root of a number\n",
    "a=16\n",
    "b=a**0.25\n",
    "print(\"Fourth root of the 16 is\",b)"
   ]
  },
  {
   "cell_type": "code",
   "execution_count": 17,
   "metadata": {},
   "outputs": [
    {
     "name": "stdout",
     "output_type": "stream",
     "text": [
      "a= 2 b= 3\n",
      "now swapping the numbers\n",
      "a= 3 b= 2\n"
     ]
    }
   ],
   "source": [
    "#swapping two numbers with temporary varivable\n",
    "a=2\n",
    "b=3\n",
    "print (\"a=\",a ,\"b=\",b)\n",
    "#now swapping the numbers\n",
    "print(\"now swapping the numbers\")\n",
    "c=a\n",
    "a=b\n",
    "b=c\n",
    "print (\"a=\",a,\"b=\",b)\n"
   ]
  },
  {
   "cell_type": "code",
   "execution_count": 21,
   "metadata": {},
   "outputs": [
    {
     "name": "stdout",
     "output_type": "stream",
     "text": [
      "a= 3 b= 2\n"
     ]
    }
   ],
   "source": [
    "#swapping two numbers with out using temporary varivable\n",
    "a=2\n",
    "b=3\n",
    "#now swapping the nubers\n",
    "a=a+b\n",
    "b=a-b\n",
    "a=a-b\n",
    "print (\"a=\",a , \"b=\",b)\n"
   ]
  },
  {
   "cell_type": "code",
   "execution_count": 2,
   "metadata": {},
   "outputs": [
    {
     "name": "stdout",
     "output_type": "stream",
     "text": [
      "Enter temperature in fahrenheit: 102\n",
      "102.00 Fahrenheit is: 38.89 Celsius\n"
     ]
    }
   ],
   "source": [
    "#Program to convert fahrenheit to celsius\n",
    "fahrenheit = float(input(\"Enter temperature in fahrenheit: \"))\n",
    "celsius = (fahrenheit - 32) * 5/9\n",
    "print('%.2f Fahrenheit is: %0.2f Celsius' %(fahrenheit, celsius))"
   ]
  },
  {
   "cell_type": "code",
   "execution_count": 12,
   "metadata": {},
   "outputs": [
    {
     "name": "stdout",
     "output_type": "stream",
     "text": [
      "Enter temperature in fahrenheit: 120\n",
      "312.3888888888889\n"
     ]
    }
   ],
   "source": [
    "#Program to convert fahrenheit to Kelvin\n",
    "fahrenheit= float(input(\"Enter temperature in fahrenheit: \"))\n",
    "kelvin= 273.5 + ((F - 32.0) * (5.0/9.0))\n",
    "print(kelvin)"
   ]
  },
  {
   "cell_type": "code",
   "execution_count": 21,
   "metadata": {},
   "outputs": [
    {
     "name": "stdout",
     "output_type": "stream",
     "text": [
      "type of a is <class 'int'>\n",
      "type of b is <class 'float'>\n",
      "type of c is <class 'complex'>\n",
      "type of d is <class 'str'>\n",
      "type of e is <class 'int'>\n"
     ]
    }
   ],
   "source": [
    "#types in python\n",
    "a=4\n",
    "b=2.3\n",
    "c=2+3j\n",
    "d='shravan'\n",
    "e=123456789\n",
    "\n",
    "print(\"type of a is\", type(a))\n",
    "print(\"type of b is\", type(b))\n",
    "print(\"type of c is\", type(c))\n",
    "print(\"type of d is\", type(d))\n",
    "print(\"type of e is\", type(e))"
   ]
  },
  {
   "cell_type": "code",
   "execution_count": null,
   "metadata": {},
   "outputs": [],
   "source": []
  }
 ],
 "metadata": {
  "kernelspec": {
   "display_name": "Python 3",
   "language": "python",
   "name": "python3"
  },
  "language_info": {
   "codemirror_mode": {
    "name": "ipython",
    "version": 3
   },
   "file_extension": ".py",
   "mimetype": "text/x-python",
   "name": "python",
   "nbconvert_exporter": "python",
   "pygments_lexer": "ipython3",
   "version": "3.8.3"
  }
 },
 "nbformat": 4,
 "nbformat_minor": 4
}
